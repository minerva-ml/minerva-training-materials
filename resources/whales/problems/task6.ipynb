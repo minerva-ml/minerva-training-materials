{
 "cells": [
  {
   "cell_type": "markdown",
   "metadata": {},
   "source": [
    "# Instructions\n",
    "\n",
    "Implement probability calibration transformer.\n",
    "\n",
    "As was explained in the blog https://blog.deepsense.ai/deep-learning-right-whale-recognition-kaggle/\n",
    "probability calibration was an important step that improved the results considerably.\n",
    "\n",
    "The idea is simple. You should take the output `y_pred` from the network and raise it to the power of `1.1 - 1.6`\n",
    "\n",
    "You will learn how to do it cleanly with a BaseTransformer object that is used heavily in this project.\n",
    "\n",
    "It was used to improve the log loss on classification so use `-s classification` in the execution command."
   ]
  },
  {
   "cell_type": "markdown",
   "metadata": {},
   "source": [
    "# Your Solution\n",
    "Your solution function should be called solution. In this case we leave it for consistency but you don't need to do anything with it. \n",
    "\n",
    "CONFIG is a dictionary with all parameters that you want to pass to your solution function."
   ]
  },
  {
   "cell_type": "code",
   "execution_count": 1,
   "metadata": {},
   "outputs": [],
   "source": [
    "CONFIG={'power':1.45},\n",
    "\n",
    "def solution(power):\n",
    "    \"\"\"\n",
    "    Create your ProbabilityCalibration implementation and\n",
    "    output an instance of that class.\n",
    "    \"\"\"\n",
    "    class ProbabilityCalibration(BaseTransformer):\n",
    "        pass\n",
    "\n",
    "    return ProbabilityCalibration(power)"
   ]
  },
  {
   "cell_type": "code",
   "execution_count": 2,
   "metadata": {},
   "outputs": [],
   "source": [
    "class BaseTransformer:\n",
    "    def fit(self, **kwargs):\n",
    "        return self\n",
    "\n",
    "    def transform(self, **kwargs):\n",
    "        return NotImplementedError\n",
    "    \n",
    "    def fit_transform(self, **kwargs):\n",
    "        self.fit(**kwargs)\n",
    "        return self.transform(**kwargs)\n",
    "    \n",
    "    def load(self, filepath):\n",
    "        return self\n",
    "\n",
    "    def save(self, filepath):\n",
    "        joblib.dump({}, filepath)"
   ]
  },
  {
   "cell_type": "code",
   "execution_count": null,
   "metadata": {},
   "outputs": [],
   "source": []
  }
 ],
 "metadata": {
  "kernelspec": {
   "display_name": "Python 2",
   "language": "python",
   "name": "python2"
  },
  "language_info": {
   "codemirror_mode": {
    "name": "ipython",
    "version": 3
   },
   "file_extension": ".py",
   "mimetype": "text/x-python",
   "name": "python",
   "nbconvert_exporter": "python",
   "pygments_lexer": "ipython3",
   "version": "3.5.2"
  },
  "toc": {
   "colors": {
    "hover_highlight": "#DAA520",
    "running_highlight": "#FF0000",
    "selected_highlight": "#FFD700"
   },
   "moveMenuLeft": true,
   "nav_menu": {
    "height": "64px",
    "width": "255px"
   },
   "navigate_menu": true,
   "number_sections": true,
   "sideBar": true,
   "threshold": 4,
   "toc_cell": false,
   "toc_section_display": "block",
   "toc_window_display": false
  }
 },
 "nbformat": 4,
 "nbformat_minor": 1
}
