{
 "cells": [
  {
   "cell_type": "markdown",
   "metadata": {},
   "source": [
    "# Instructions\n",
    "\n",
    "Build head localization deep learing model in pytorch.\n",
    "\n",
    "<img src=\"static/localizer_example.png\" alt=\"Drawing\" style=\"width: 300px;\"/>\n",
    "\n",
    "\n",
    "Your model takes as an input X tensor and outputs predictions over 4 coordinates for 2 points that define a bounding box.\n",
    "\n",
    "Read more about pytorch and model definition in the following resources:\n",
    "https://towardsdatascience.com/pytorch-tutorial-distilled-95ce8781a89c?gi=ef974c787a5e\n",
    "http://pytorch.org/tutorials/beginner/deep_learning_60min_blitz.html\n",
    "\n",
    "\n",
    "Now the architecture that you need is the following:\n",
    "\n",
    "<img src=\"static/localizer_architecture.png\" alt=\"Drawing\" style=\"height:500px;, width: 300px;\"/>\n",
    "\n",
    "\n",
    "Remember your model has 4 outputs as we do classification rather than regression as explained here:\n",
    "https://blog.deepsense.ai/deep-learning-right-whale-recognition-kaggle/\n",
    "\n",
    "This is a localization subtask so add `-s localization` to the execution command"
   ]
  },
  {
   "cell_type": "markdown",
   "metadata": {},
   "source": [
    "# Your Solution\n",
    "Your solution function should be called solution. \n",
    "\n",
    "CONFIG is a dictionary with all parameters that you want to pass to your solution function"
   ]
  },
  {
   "cell_type": "code",
   "execution_count": 1,
   "metadata": {},
   "outputs": [],
   "source": [
    "import torch.nn as nn"
   ]
  },
  {
   "cell_type": "code",
   "execution_count": 2,
   "metadata": {},
   "outputs": [],
   "source": [
    "CONFIG = {'input_size':(3, 256, 256),\n",
    "         'classes':128}\n",
    "\n",
    "def solution(input_shape, classes):\n",
    "    class PyTorchLocalizer(nn.Module):\n",
    "        def __init__(self, input_shape, classes):\n",
    "            \"\"\"\n",
    "            input_shape: tuple representing shape\n",
    "            classes: int, number of localization bins\n",
    "            \"\"\"\n",
    "            super(PyTorchLocalizer, self).__init__()\n",
    "            self.features = nn.Sequential(\n",
    "                \"\"\"\n",
    "                Feature extraction part of the neural network.\n",
    "                Stack those layers to get architecture defined in the notes above.\n",
    "                \"\"\"\n",
    "\n",
    "            )\n",
    "            self.flat_features_nr = self._get_flat_features_nr(input_shape, self.features)\n",
    "\n",
    "            self.point1_x = nn.Sequential(\n",
    "                \"\"\"\n",
    "                Put your classification layers for point1_x\n",
    "                \"\"\"\n",
    "            )\n",
    "\n",
    "            self.point1_y = nn.Sequential(\n",
    "                \"\"\"\n",
    "                Put your classification layers for point1_y\n",
    "                \"\"\"\n",
    "            )\n",
    "\n",
    "            self.point2_x = nn.Sequential(\n",
    "                \"\"\"\n",
    "                Put your classification layers for point2_x\n",
    "                \"\"\"\n",
    "            )\n",
    "\n",
    "            self.point2_y = nn.Sequential(\n",
    "                \"\"\"\n",
    "                Put your classification layers for point2_y\n",
    "                \"\"\"\n",
    "            )\n",
    "\n",
    "        def _get_flat_features_nr(self, in_size, features):\n",
    "            \"\"\"\n",
    "            Linear layers need to know what is the size of the input.\n",
    "            Implement a function that \n",
    "            \"\"\"\n",
    "            return flattened_features_size\n",
    "\n",
    "        def forward(self, x):\n",
    "            \"\"\"\n",
    "            Implement forward pass through the network\n",
    "            \"\"\"\n",
    "            return [pred_p1x, pred_p1y, pred_p2x, pred_p2y]\n",
    "\n",
    "        def forward_target(self, x):\n",
    "            \"\"\"\n",
    "            Sometimes output from the forward pass will contain auxilary target\n",
    "            In that case you might want to have a separate forward pass for just \n",
    "            your target. \n",
    "            \"\"\"\n",
    "            return self.forward(x)\n",
    "    \n",
    "    return PyTorchLocalizer(input_shape, classes)"
   ]
  }
 ],
 "metadata": {
  "kernelspec": {
   "display_name": "cpu py3",
   "language": "python",
   "name": "cpu_py3"
  },
  "language_info": {
   "codemirror_mode": {
    "name": "ipython",
    "version": 3
   },
   "file_extension": ".py",
   "mimetype": "text/x-python",
   "name": "python",
   "nbconvert_exporter": "python",
   "pygments_lexer": "ipython3",
   "version": "3.5.2"
  },
  "toc": {
   "colors": {
    "hover_highlight": "#DAA520",
    "running_highlight": "#FF0000",
    "selected_highlight": "#FFD700"
   },
   "moveMenuLeft": true,
   "nav_menu": {
    "height": "64px",
    "width": "255px"
   },
   "navigate_menu": true,
   "number_sections": true,
   "sideBar": true,
   "threshold": 4,
   "toc_cell": false,
   "toc_section_display": "block",
   "toc_window_display": false
  }
 },
 "nbformat": 4,
 "nbformat_minor": 1
}
