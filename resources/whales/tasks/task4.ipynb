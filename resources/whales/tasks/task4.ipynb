{
 "cells": [
  {
   "cell_type": "markdown",
   "metadata": {},
   "source": [
    "# Instructions\n",
    "\n",
    "Model regularization is a very important step.\n",
    "One of the techniques is weight regularization were the network is penalized for non zero weights.\n",
    "It helps to distinguish weights that carry strong signal from the noise and results in weights that are more sparse. \n",
    "\n",
    "<img src=\"static/weight_regularization.png\" alt=\"Drawing\" style=\"width: 450px;\"/> \n",
    "\n",
    "Read about it here:\n",
    "\n",
    "* https://medium.com/mlreview/l1-norm-regularization-and-sparsity-explained-for-dummies-5b0e4be3938a\n",
    "* https://discuss.pytorch.org/t/simple-l2-regularization/139\n",
    "\n",
    "\n",
    "Your task here is to implement L2 weight regulariation in pytorch. To make it trickier you need to put different weight_decay parameters for convolutional layers and linear layers as defined in the blog:\n",
    "https://blog.deepsense.ai/deep-learning-right-whale-recognition-kaggle/\n",
    "\n",
    "* convolutional filters: 0.0005\n",
    "* linear layers: 0.01\n",
    "\n",
    "As a bonus you can play with different values of weight_decay parameter to investigate the effects that strong regularization has on your model performance by simply changing the values in the config."
   ]
  },
  {
   "cell_type": "markdown",
   "metadata": {},
   "source": [
    "# Your Solution\n",
    "Your solution function should be called solution. In this case we leave it for consistency but you don't need to do anything with it. \n",
    "\n",
    "CONFIG is a dictionary with all parameters that you want to pass to your solution function."
   ]
  },
  {
   "cell_type": "code",
   "execution_count": null,
   "metadata": {},
   "outputs": [],
   "source": [
    "CONFIG={'regularize':True,\n",
    "        'weight_decay_conv2d': 0.0005,\n",
    "        'weight_decay_linear': 0.01},\n",
    "\n",
    "def solution(model, regularize, weight_decay_conv2d, weight_decay_linear, ):\n",
    "    \"\"\"\n",
    "    Implement the weight here.\n",
    "    This function should return an object that can be passed to the pytorch optimizer as in:\n",
    "    \n",
    "    optimizer = optim.SGD(model.parameters(), lr=0.1, weight_decay=0.001)\n",
    "    \n",
    "    In this case model.parameters() is our parameter list but it puts the same regularization\n",
    "    on all the neurons in all the layers. Adjust it to our case.\n",
    "    \"\"\"\n",
    "    return parameter_list"
   ]
  }
 ],
 "metadata": {
  "kernelspec": {
   "display_name": "Python 2",
   "language": "python",
   "name": "python2"
  },
  "language_info": {
   "codemirror_mode": {
    "name": "ipython",
    "version": 3
   },
   "file_extension": ".py",
   "mimetype": "text/x-python",
   "name": "python",
   "nbconvert_exporter": "python",
   "pygments_lexer": "ipython3",
   "version": "3.5.2"
  },
  "toc": {
   "colors": {
    "hover_highlight": "#DAA520",
    "running_highlight": "#FF0000",
    "selected_highlight": "#FFD700"
   },
   "moveMenuLeft": true,
   "nav_menu": {
    "height": "64px",
    "width": "255px"
   },
   "navigate_menu": true,
   "number_sections": true,
   "sideBar": true,
   "threshold": 4,
   "toc_cell": false,
   "toc_section_display": "block",
   "toc_window_display": false
  }
 },
 "nbformat": 4,
 "nbformat_minor": 1
}
