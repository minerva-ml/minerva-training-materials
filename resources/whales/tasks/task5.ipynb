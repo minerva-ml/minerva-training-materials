{
 "cells": [
  {
   "cell_type": "markdown",
   "metadata": {},
   "source": [
    "# Instructions\n",
    "\n",
    "Implement multi output cross entropy loss in pytorch.\n",
    "\n",
    "Throughout this whole problem we use multioutput models:\n",
    "* predicting 4 localization coordinates\n",
    "* predicting 4 keypoint coordinates + whale id and callosity pattern\n",
    "* predicting whale id and callosity pattern\n",
    "\n",
    "In order for that to work your loss function needs to cooperate.\n",
    "Remember that for the simple single output models the following function will work:\n",
    "\n",
    "```python\n",
    "import  torch.nn.functional as F\n",
    "single_output_loss = F.nll_loss(output, target)\n",
    "```\n",
    "\n",
    "Use `-s localization` in the execution command."
   ]
  },
  {
   "cell_type": "markdown",
   "metadata": {},
   "source": [
    "# Your Solution\n",
    "Your solution function should be called solution. In this case we leave it for consistency but you don't need to do anything with it. \n",
    "\n",
    "CONFIG is a dictionary with all parameters that you want to pass to your solution function."
   ]
  },
  {
   "cell_type": "code",
   "execution_count": null,
   "metadata": {},
   "outputs": [],
   "source": [
    "CONFIG={},\n",
    "\n",
    "def solution(outputs, targets):\n",
    "    \"\"\"\n",
    "    Args:\n",
    "        outputs: list of torch.autograd.Variables containing model outputs\n",
    "        targets: list of torch.autograd.Variables containing targets for each output\n",
    "    Returns:\n",
    "        loss_value: torch.autograd.Variable object\n",
    "    \"\"\"\n",
    "    return loss_value"
   ]
  }
 ],
 "metadata": {
  "kernelspec": {
   "display_name": "Python 2",
   "language": "python",
   "name": "python2"
  },
  "language_info": {
   "codemirror_mode": {
    "name": "ipython",
    "version": 3
   },
   "file_extension": ".py",
   "mimetype": "text/x-python",
   "name": "python",
   "nbconvert_exporter": "python",
   "pygments_lexer": "ipython3",
   "version": "3.5.2"
  },
  "toc": {
   "colors": {
    "hover_highlight": "#DAA520",
    "running_highlight": "#FF0000",
    "selected_highlight": "#FFD700"
   },
   "moveMenuLeft": true,
   "nav_menu": {
    "height": "64px",
    "width": "255px"
   },
   "navigate_menu": true,
   "number_sections": true,
   "sideBar": true,
   "threshold": 4,
   "toc_cell": false,
   "toc_section_display": "block",
   "toc_window_display": false
  }
 },
 "nbformat": 4,
 "nbformat_minor": 1
}
