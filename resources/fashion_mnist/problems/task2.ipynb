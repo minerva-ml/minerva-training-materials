{
 "cells": [
  {
   "cell_type": "markdown",
   "metadata": {},
   "source": [
    "# Instructions\n",
    "\n",
    "Tweak hyperparameters of your deep learing model. \n",
    "\n",
    "Choosing correct optimization technique is an important part of the process.\n",
    "\n",
    "Sometimes it feels like this:\n",
    "\n",
    "![query](http://2.bp.blogspot.com/-X6peGqFZFZ0/UcTqFQ2O21I/AAAAAAAAPi0/uRJyfIgg9uo/s1600/blindssuck.gif)\n",
    "\n",
    "In this task I want you use Stochastic Gradient Descent with Nesterov momentum and focus on the interaction between:\n",
    "- learning rate\n",
    "- momentum\n",
    "- batch_size\n",
    "\n",
    "Run multiple experiments and explore learning curves in neptune.\n",
    "Choose the configuration that works best!"
   ]
  },
  {
   "cell_type": "markdown",
   "metadata": {},
   "source": [
    "# Your Solution\n",
    "Your solution function should be called solution. In this case we leave it for consistency but you don't need to do anything with it. \n",
    "\n",
    "CONFIG is a dictionary with all parameters that you want to pass to your solution function."
   ]
  },
  {
   "cell_type": "code",
   "execution_count": null,
   "metadata": {},
   "outputs": [],
   "source": [
    "CONFIG={'lr':0.9 ,\n",
    "        'momentum':0.1,\n",
    "        'batch_size':640}"
   ]
  },
  {
   "cell_type": "code",
   "execution_count": null,
   "metadata": {},
   "outputs": [],
   "source": []
  }
 ],
 "metadata": {
  "kernelspec": {
   "display_name": "Python 2",
   "language": "python",
   "name": "python2"
  },
  "language_info": {
   "codemirror_mode": {
    "name": "ipython",
    "version": 2
   },
   "file_extension": ".py",
   "mimetype": "text/x-python",
   "name": "python",
   "nbconvert_exporter": "python",
   "pygments_lexer": "ipython2",
   "version": "2.7.12"
  },
  "toc": {
   "colors": {
    "hover_highlight": "#DAA520",
    "running_highlight": "#FF0000",
    "selected_highlight": "#FFD700"
   },
   "moveMenuLeft": true,
   "nav_menu": {
    "height": "64px",
    "width": "255px"
   },
   "navigate_menu": true,
   "number_sections": true,
   "sideBar": true,
   "threshold": 4,
   "toc_cell": false,
   "toc_section_display": "block",
   "toc_window_display": false
  }
 },
 "nbformat": 4,
 "nbformat_minor": 1
}
