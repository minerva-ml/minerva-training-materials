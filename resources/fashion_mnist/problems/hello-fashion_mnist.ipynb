{
 "cells": [
  {
   "cell_type": "markdown",
   "metadata": {},
   "source": [
    "# Welcome to Minerva Fashion Mnist problem\n",
    "\n",
    "# Fashion Mnist Problem\n",
    "In this teaser we will focus on fashion mnist benchmark dataset. This dataset is a collection of 28x28 greyscale images of clothes that belong to 10 classes. The dataset looks like this:\n",
    "\n",
    "![fashion_mnist](https://raw.githubusercontent.com/zalandoresearch/fashion-mnist/master/doc/img/fashion-mnist-sprite.png)\n",
    "\n",
    "# You will learn\n",
    "- How to work with Keras framework\n",
    "- How to build a deep neural network\n",
    "- How optimization hyperparameters interact with each other and how to tweak them\n",
    "- How to use augmentation and you will build your own keras image generator\n",
    "- How to split data into train and validation sets\n",
    "\n",
    "# How it works\n",
    "## Dry run mode\n",
    "In dry run mode you can run our pipeline to make sure that everything is working correctly.\n",
    "1. If you work without Neptune:\n",
    "  1. In `config.yaml` file:\n",
    "    - uncomment Local setup paths,\n",
    "    - `data_dir` path doesn't matter in fashion_mnist problem,\n",
    "    - set `solution_dir` path in a way you like,\n",
    "    - comment Cloud setup paths,\n",
    "    - comment `pip-requirements-file` line.\n",
    "  2. type:\n",
    "```bash\n",
    "python run_minerva.py -- dry_run --problem fashion_mnist\n",
    "```\n",
    "2. If you want to run our pipeline locally and use Neptune to visualize the results:\n",
    "  1. Edit `config.yaml` file in the same way like in point 1.,\n",
    "  2. type:\n",
    "```bash\n",
    "neptune run minerva.py --config config.yaml -- dry_run --problem fashion_mnist\n",
    "```\n",
    "3. If you want to run our pipeline on the cloud available through Neptune, type:\n",
    "```bash\n",
    "neptune send run_minerva.py \\\n",
    "--environment keras-2.0-gpu-py3 \\\n",
    "--worker gcp-gpu-medium \\\n",
    "--config config.yaml \\\n",
    "-- dry_run --problem fashion_mnist\n",
    "```\n",
    "\n",
    "## Submit mode\n",
    "2. Choose a task (for example `task1.ipynb` or `task1.py` if you don't like notebooks). Write your implementation to the task by filling the body of the solution function and CONFIG dictionary according to the instructions:\n",
    "```python\n",
    "CONFIG = {}\n",
    "def solution():\n",
    "    return something\n",
    "```\n",
    "\n",
    "3. Submit your solution by running one of three options:\n",
    "\n",
    "  - Without Neptune:\n",
    "```bash\n",
    "python run_minerva.py submit --task_nr 1 --filepath user_solution/notebooks/task1.ipynb\n",
    "```\n",
    "\n",
    "  - Locally with Neptune monitoring:\n",
    "```bash\n",
    "neptune run minerva.py -- submit --task_nr 1 --filepath user_solution/notebooks/task1.ipynb\n",
    "```\n",
    "\n",
    "  - On Neptune's cloud:\n",
    "```bash\n",
    "neptune send run_minerva.py \\\n",
    "--environment keras-2.0-gpu-py3 \\\n",
    "--worker gcp-gpu-medium \\\n",
    "--config config.yaml \\\n",
    "-- submit --task_nr 1 --filepath user_solution/notebooks/task1.ipynb\n",
    "```\n",
    "\n",
    "4. Wait for the results"
   ]
  },
  {
   "cell_type": "code",
   "execution_count": null,
   "metadata": {
    "collapsed": true
   },
   "outputs": [],
   "source": []
  }
 ],
 "metadata": {
  "kernelspec": {
   "display_name": "Python 2",
   "language": "python",
   "name": "python2"
  },
  "language_info": {
   "codemirror_mode": {
    "name": "ipython",
    "version": 2
   },
   "file_extension": ".py",
   "mimetype": "text/x-python",
   "name": "python",
   "nbconvert_exporter": "python",
   "pygments_lexer": "ipython2",
   "version": "2.7.12"
  },
  "toc": {
   "colors": {
    "hover_highlight": "#DAA520",
    "running_highlight": "#FF0000",
    "selected_highlight": "#FFD700"
   },
   "moveMenuLeft": true,
   "nav_menu": {
    "height": "64px",
    "width": "255px"
   },
   "navigate_menu": true,
   "number_sections": false,
   "sideBar": true,
   "threshold": 4,
   "toc_cell": false,
   "toc_section_display": "block",
   "toc_window_display": false
  }
 },
 "nbformat": 4,
 "nbformat_minor": 1
}
