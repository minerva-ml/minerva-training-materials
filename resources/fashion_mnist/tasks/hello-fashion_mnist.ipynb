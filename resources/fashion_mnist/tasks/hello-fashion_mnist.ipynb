{
 "cells": [
  {
   "cell_type": "markdown",
   "metadata": {},
   "source": [
    "# Welcome to Minerva Fashion Mnist problem\n",
    "\n",
    "# Fashion Mnist Problem\n",
    "In this teaser we will focus on fashion mnist benchmark dataset. This dataset is a collection of 28x28 greyscale images of clothes that belong to 10 classes. The dataset looks like this:\n",
    "\n",
    "![fashion_mnist](https://raw.githubusercontent.com/zalandoresearch/fashion-mnist/master/doc/img/fashion-mnist-sprite.png)\n",
    "\n",
    "# You will learn\n",
    "- How to work with Keras framework\n",
    "- How to build a deep neural network\n",
    "- How optimization hyperparameters interact with each other and how to tweak them\n",
    "- How to use augmentation and you will build your own keras image generator\n",
    "- How to split data into train and validation sets\n",
    "\n",
    "# How it works\n",
    "\n",
    "Choose a task, for example `task1.ipynb`. Write your implementation to the task by filling `CONFIG` dictionary or the body of the `solution` function according to the instructions:\n",
    "```python\n",
    "CONFIG = {}\n",
    "def solution():\n",
    "    return something\n",
    "```\n",
    "\n",
    "You can submit your solution with 3 types of Neptune support.\n",
    "\n",
    "### No Neptune\n",
    "\n",
    "Choose this option if you want to work without Neptune support.\n",
    "\n",
    "1. In `neptune.yaml` file:\n",
    "    - Comment `pip-requirements-file` line.\n",
    "    - Uncomment Local setup paths and set them as follows:\n",
    "      - `data_dir`: doesn't matter,\n",
    "      - `solution_dir`: `resources/fashion_mnist/solution`.\n",
    "    - Comment Cloud setup paths.\n",
    "2. Type:\n",
    "    ```bash\n",
    "    python main.py -- submit --problem fashion_mnist --task_nr 1\n",
    "    ```\n",
    "\n",
    "### Neptune locally\n",
    "\n",
    "Choose this option if you want to run the pipeline locally and use Neptune to visualize the results.\n",
    "\n",
    "1. Edit `neptune.yaml` file in the same way as for no Neptune support.\n",
    "2. Type:\n",
    "    ```bash\n",
    "    neptune run -- submit --problem fashion_mnist --task_nr 1\n",
    "    ```\n",
    "\n",
    "### Neptune's cloud\n",
    "\n",
    "Choose this option if you want to run the pipeline on the cloud available through Neptune.\n",
    "\n",
    "1. In `neptune.yaml` file:\n",
    "    - Uncomment `pip-requirements-file` line.\n",
    "    - Comment Local setup paths.\n",
    "    - Uncomment Cloud setup paths and set them as follows:\n",
    "      - `data_dir`: doesn't matter,\n",
    "      - `solution_dir`: `/public/minerva/resources/fashion_mnist/solution`.\n",
    "\n",
    "2. Type:\n",
    "    ```bash\n",
    "    neptune send \\\n",
    "    --environment keras-2.0-gpu-py3 \\\n",
    "    --worker gcp-gpu-medium \\\n",
    "    -- submit --problem fashion_mnist --task_nr 1\n",
    "    ```\n",
    "\n",
    "# Good luck!\n",
    "\n",
    "Check [User Guide](https://github.com/neptune-ml/minerva/wiki/User-Guide) for more options, for example the dry mode allowing you to quickly check if everything works fine."
   ]
  },
  {
   "cell_type": "code",
   "execution_count": null,
   "metadata": {
    "collapsed": true
   },
   "outputs": [],
   "source": []
  }
 ],
 "metadata": {
  "kernelspec": {
   "display_name": "Python 2",
   "language": "python",
   "name": "python2"
  },
  "language_info": {
   "codemirror_mode": {
    "name": "ipython",
    "version": 2
   },
   "file_extension": ".py",
   "mimetype": "text/x-python",
   "name": "python",
   "nbconvert_exporter": "python",
   "pygments_lexer": "ipython2",
   "version": "2.7.12"
  },
  "toc": {
   "colors": {
    "hover_highlight": "#DAA520",
    "running_highlight": "#FF0000",
    "selected_highlight": "#FFD700"
   },
   "moveMenuLeft": true,
   "nav_menu": {
    "height": "64px",
    "width": "255px"
   },
   "navigate_menu": true,
   "number_sections": false,
   "sideBar": true,
   "threshold": 4,
   "toc_cell": false,
   "toc_section_display": "block",
   "toc_window_display": false
  }
 },
 "nbformat": 4,
 "nbformat_minor": 1
}
