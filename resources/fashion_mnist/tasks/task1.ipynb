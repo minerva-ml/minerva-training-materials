{
 "cells": [
  {
   "cell_type": "markdown",
   "metadata": {},
   "source": [
    "# Instructions\n",
    "\n",
    "Build your deep learing model. \n",
    "\n",
    "Keep in mind that:\n",
    "\n",
    "![query](http://i1.kym-cdn.com/photos/images/newsfeed/000/531/557/a88.jpg)\n",
    "\n",
    "Build Keras Model builder that takes as an input:\n",
    "\n",
    "- target_size - image width and heigth (28 pixels)\n",
    "\n",
    "- classes - number of classes within the Fashion-MNIST dataset (10 classes)\n",
    "    \n",
    "Your function should output a Keras compiled model object (functional API)\n",
    "\n",
    "We suggest your Keras model should include, but not be limited to:\n",
    "    - 2 convolutional blocks followed by max pooling \n",
    "    - Each block should have 2 layers of 16 3x3 filters\n",
    "    - On top of that you should put two fully connected layers of 256 units\n",
    "    - Use dropout of 0.5 to reduce overfitting\n",
    "\n",
    "Your goal is to achieve a test accuracy of >0.9. \n",
    "The maximum number of epochs your model will be trained on is 200. Don't worry if the model training terminates before the 200th epoch. It's because of an `EarlyStopping` function, which stops the training once validation loss stops decreasing. Early stopping is a common method used to avoid generalization error. You can read more about this technique here: [Early_stopping](https://en.wikipedia.org/wiki/Early_stopping).\n",
    "\n",
    "Specify your parameterers in the `CONFIG` dictionary. Remember that everything you specify in the `CONFIG` dict goes into the model builder.\n",
    "\n",
    "If you feel you need more basic info about above ideas, please check [First steps in deep learning](https://github.com/neptune-ml/minerva/wiki/First-steps-in-deep-learning) in our wiki for useful links."
   ]
  },
  {
   "cell_type": "markdown",
   "metadata": {},
   "source": [
    "# Your Solution\n",
    "Your solution function should be called solution. \n",
    "\n",
    "CONFIG is a dictionary with all parameters that you want to pass to your solution function"
   ]
  },
  {
   "cell_type": "code",
   "execution_count": null,
   "metadata": {
    "collapsed": true
   },
   "outputs": [],
   "source": [
    "from keras.models import Model\n",
    "from keras.layers import Flatten, Dense, Dropout, BatchNormalization, Input, Conv2D, MaxPool2D"
   ]
  },
  {
   "cell_type": "code",
   "execution_count": null,
   "metadata": {
    "collapsed": true
   },
   "outputs": [],
   "source": [
    "CONFIG = {'input_size':28,\n",
    "          'classes':10}\n",
    "\n",
    "def solution(input_size, classes):\n",
    "    input_shape = (input_size, input_size, 1)\n",
    "    images = Input(shape=input_shape)\n",
    "    \"\"\"\n",
    "    ...\n",
    "    \"\"\"\n",
    "    predictions = Dense(classes, activation='softmax', name='output')(x)\n",
    "    model = Model(inputs=images, outputs=predictions)\n",
    "    return model\n"
   ]
  },
  {
   "cell_type": "markdown",
   "metadata": {},
   "source": [
    "# Define helper functions and classes and use them in your solution"
   ]
  },
  {
   "cell_type": "code",
   "execution_count": null,
   "metadata": {
    "collapsed": true
   },
   "outputs": [],
   "source": []
  },
  {
   "cell_type": "markdown",
   "metadata": {},
   "source": [
    "# Reminder\n",
    "\n",
    "### No Neptune\n",
    "\n",
    "```bash\n",
    "python main.py -- submit --problem fashion_mnist --task_nr 1\n",
    "```\n",
    "\n",
    "### Neptune locally\n",
    "\n",
    "```bash\n",
    "neptune run -- submit --problem fashion_mnist --task_nr 1\n",
    "```\n",
    "\n",
    "### Neptune's cloud\n",
    "\n",
    "```bash\n",
    "neptune send \\\n",
    "--environment keras-2.0-gpu-py3 \\\n",
    "--worker gcp-gpu-medium \\\n",
    "-- submit --problem fashion_mnist --task_nr 1\n",
    "```"
   ]
  }
 ],
 "metadata": {
  "kernelspec": {
   "display_name": "Python 2",
   "language": "python",
   "name": "python2"
  },
  "language_info": {
   "codemirror_mode": {
    "name": "ipython",
    "version": 2
   },
   "file_extension": ".py",
   "mimetype": "text/x-python",
   "name": "python",
   "nbconvert_exporter": "python",
   "pygments_lexer": "ipython2",
   "version": "2.7.12"
  },
  "toc": {
   "colors": {
    "hover_highlight": "#DAA520",
    "running_highlight": "#FF0000",
    "selected_highlight": "#FFD700"
   },
   "moveMenuLeft": true,
   "nav_menu": {
    "height": "64px",
    "width": "255px"
   },
   "navigate_menu": true,
   "number_sections": true,
   "sideBar": true,
   "threshold": 4,
   "toc_cell": false,
   "toc_section_display": "block",
   "toc_window_display": false
  }
 },
 "nbformat": 4,
 "nbformat_minor": 1
}
