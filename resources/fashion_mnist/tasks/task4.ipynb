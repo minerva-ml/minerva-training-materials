{
 "cells": [
  {
   "cell_type": "markdown",
   "metadata": {},
   "source": [
    "# Instructions\n",
    "\n",
    "Create a function that takes as an input X - images and y - targets and divides them into train and validation chunks. \n",
    "Make sure to keep the distrubution of the targets in both chunks!\n",
    "\n",
    "X and y are numpy arrays. "
   ]
  },
  {
   "cell_type": "markdown",
   "metadata": {},
   "source": [
    "# Your Solution\n",
    "Your solution function should be called solution. \n",
    "\n",
    "CONFIG is not needed for this particular task but we left it here for consistency with other tasks. "
   ]
  },
  {
   "cell_type": "code",
   "execution_count": null,
   "metadata": {
    "collapsed": true
   },
   "outputs": [],
   "source": [
    "CONFIG = {'classes':10}\n",
    "\n",
    "def solution(X, y):\n",
    "    \"\"\"\n",
    "    \"\"\"\n",
    "    return X_train, y_train, X_valid, y_valid\n"
   ]
  },
  {
   "cell_type": "code",
   "execution_count": null,
   "metadata": {},
   "outputs": [],
   "source": []
  },
  {
   "cell_type": "markdown",
   "metadata": {},
   "source": [
    "# Reminder\n",
    "\n",
    "### No Neptune\n",
    "\n",
    "```bash\n",
    "python main.py -- submit --problem fashion_mnist --task_nr 4\n",
    "```\n",
    "\n",
    "### Neptune locally\n",
    "\n",
    "```bash\n",
    "neptune run -- submit --problem fashion_mnist --task_nr 4\n",
    "```\n",
    "\n",
    "### Neptune's cloud\n",
    "\n",
    "```bash\n",
    "neptune send \\\n",
    "--environment keras-2.0-gpu-py3 \\\n",
    "--worker gcp-gpu-medium \\\n",
    "-- submit --problem fashion_mnist --task_nr 4\n",
    "```"
   ]
  }
 ],
 "metadata": {
  "kernelspec": {
   "display_name": "Python 2",
   "language": "python",
   "name": "python2"
  },
  "language_info": {
   "codemirror_mode": {
    "name": "ipython",
    "version": 2
   },
   "file_extension": ".py",
   "mimetype": "text/x-python",
   "name": "python",
   "nbconvert_exporter": "python",
   "pygments_lexer": "ipython2",
   "version": "2.7.12"
  },
  "toc": {
   "colors": {
    "hover_highlight": "#DAA520",
    "running_highlight": "#FF0000",
    "selected_highlight": "#FFD700"
   },
   "moveMenuLeft": true,
   "nav_menu": {
    "height": "4px",
    "width": "255px"
   },
   "navigate_menu": true,
   "number_sections": true,
   "sideBar": true,
   "threshold": 4,
   "toc_cell": false,
   "toc_section_display": "block",
   "toc_window_display": false
  }
 },
 "nbformat": 4,
 "nbformat_minor": 1
}
