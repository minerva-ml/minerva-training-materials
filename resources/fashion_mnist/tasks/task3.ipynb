{
 "cells": [
  {
   "cell_type": "markdown",
   "metadata": {},
   "source": [
    "# Instructions\n",
    "\n",
    "Data augmentation is an important part of deep learning.\n",
    "Build Keras data generator that takes as an input:\n",
    "\n",
    "- *X* - images\n",
    "\n",
    "- *y* - targets\n",
    "\n",
    "- *datagen_args* - augmentation parameters passed to the image generator including:\n",
    "    - random rotation by 30 degrees\n",
    "    - random width shift by 10% of the width\n",
    "    - random heigth shift by 10% of the heigth\n",
    "    - rescale to 0-1 range\n",
    "\n",
    "- *flow_args* - data flow parameters passed to the .flow method of image generator\n",
    "    - batch_size of 256\n",
    "    - batch shuffling\n",
    "    \n",
    "Your function should output:\n",
    "- *flow* - which is the keras datagenerator and outputs randomly augmented batches of 256 image/target pairs\n",
    "- *steps* - number of batches in the dataset."
   ]
  },
  {
   "cell_type": "markdown",
   "metadata": {},
   "source": [
    "# Your Solution\n",
    "Your solution function should be called solution. \n",
    "\n",
    "CONFIG is not needed for this particular task but we left it here for consistency with other tasks. "
   ]
  },
  {
   "cell_type": "code",
   "execution_count": null,
   "metadata": {
    "collapsed": true
   },
   "outputs": [],
   "source": [
    "CONFIG = {'datagen':\n",
    "          {'rescale': ,\n",
    "           'rotation_range': ,\n",
    "           'width_shift_range': ,\n",
    "           'height_shift_range': ,\n",
    "          },\n",
    "          'flow': {'shuffle': ,\n",
    "                   \"batch_size\":,\n",
    "                  } \n",
    "         }\n",
    "\n",
    "def solution(X, y, datagen_args, flow_args):\n",
    "    \"\"\"\n",
    "    \"\"\"\n",
    "    return flow, steps\n"
   ]
  }
 ],
 "metadata": {
  "kernelspec": {
   "display_name": "Python 2",
   "language": "python",
   "name": "python2"
  },
  "language_info": {
   "codemirror_mode": {
    "name": "ipython",
    "version": 2
   },
   "file_extension": ".py",
   "mimetype": "text/x-python",
   "name": "python",
   "nbconvert_exporter": "python",
   "pygments_lexer": "ipython2",
   "version": "2.7.12"
  },
  "toc": {
   "colors": {
    "hover_highlight": "#DAA520",
    "running_highlight": "#FF0000",
    "selected_highlight": "#FFD700"
   },
   "moveMenuLeft": true,
   "nav_menu": {
    "height": "38px",
    "width": "255px"
   },
   "navigate_menu": true,
   "number_sections": false,
   "sideBar": true,
   "threshold": 4,
   "toc_cell": false,
   "toc_section_display": "block",
   "toc_window_display": false
  }
 },
 "nbformat": 4,
 "nbformat_minor": 1
}
